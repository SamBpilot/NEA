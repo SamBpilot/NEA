{
 "cells": [
  {
   "cell_type": "code",
   "execution_count": null,
   "metadata": {
    "notebookRunGroups": {
     "groupValue": "12"
    }
   },
   "outputs": [],
   "source": [
    "TESTS_TO_GENERATE_FILE_NAME = \"./tests_to_generate.csv\"\n",
    "POSSIBLE_JSON_ROUTES_FILE_NAME = \"../Server/Server.Tests/possibleJsonRoutes.txt\"\n",
    "STATIONS_XML_FILE_NAME = \"../Server/Server/Stations.xml\""
   ]
  },
  {
   "cell_type": "code",
   "execution_count": null,
   "metadata": {
    "notebookRunGroups": {
     "groupValue": "12"
    }
   },
   "outputs": [],
   "source": [
    "first_line = True\n",
    "raw_tests = []\n",
    "\n",
    "with open(TESTS_TO_GENERATE_FILE_NAME) as f:\n",
    "  lines = list(\n",
    "    map(\n",
    "        lambda x: x.replace(\"\\n\", \"\").strip(),\n",
    "        f.readlines()\n",
    "      )\n",
    "  )\n",
    "\n",
    "for line in lines:\n",
    "  if first_line:\n",
    "    first_line = False\n",
    "    continue\n",
    "\n",
    "  raw_tests.append(tuple(line.split(\",\")))\n",
    "\n",
    "tests_to_generate = {}\n",
    "for test_tuple in raw_tests:\n",
    "  tests_to_generate.setdefault(test_tuple[2], []).append((test_tuple[0], test_tuple[1]))\n"
   ]
  },
  {
   "cell_type": "code",
   "execution_count": null,
   "metadata": {
    "notebookRunGroups": {
     "groupValue": "12"
    }
   },
   "outputs": [],
   "source": [
    "\n",
    "with open(POSSIBLE_JSON_ROUTES_FILE_NAME) as f:\n",
    "  lines = list(\n",
    "    map(\n",
    "      lambda x: x.replace(\"\\n\", \"\").strip(),\n",
    "      f.readlines()\n",
    "    )\n",
    "  )\n",
    "\n",
    "generated_test_index = len(lines) + 1\n",
    "print(f\"Starting index for generated tests: {generated_test_index}\")\n"
   ]
  },
  {
   "cell_type": "code",
   "execution_count": null,
   "metadata": {
    "notebookRunGroups": {
     "groupValue": "2"
    }
   },
   "outputs": [],
   "source": [
    "CSHARP_TEMPLATE = \"\"\"        Assert.Equal(routes[{0}],_commands.RouteMe(_commands.getStationById({1}), _commands.getStationById({2}))?.ToString()); // {3} to {4}\"\"\"\n",
    "\n",
    "TEST_ORDERING = [\n",
    "  \"Travel one change one\",\n",
    "  \"Travel many change one\",\n",
    "  \"Travel one change many\",\n",
    "  \"2 Changes\",\n",
    "  \"Express\",\n",
    "  \"Random Long Routes\"\n",
    "]"
   ]
  },
  {
   "cell_type": "code",
   "execution_count": null,
   "metadata": {
    "notebookRunGroups": {
     "groupValue": "12"
    }
   },
   "outputs": [],
   "source": [
    "from graph_stations import GraphBuilder\n",
    "import json"
   ]
  },
  {
   "cell_type": "code",
   "execution_count": null,
   "metadata": {
    "notebookRunGroups": {
     "groupValue": "1"
    }
   },
   "outputs": [],
   "source": [
    "\n",
    "builder = GraphBuilder()\n",
    "stations_by_id = builder.build_graph(STATIONS_XML_FILE_NAME, [], True)\n",
    "stations, nodes, edges = builder.dijkstra(\"273\", \"461\", stations_by_id)\n",
    "print(\"N\", nodes)\n",
    "instructions = builder.route_nodes_to_instructions(nodes, include_on_off_ids=True)\n",
    "instructions\n"
   ]
  },
  {
   "cell_type": "code",
   "execution_count": null,
   "metadata": {
    "notebookRunGroups": {
     "groupValue": "2"
    }
   },
   "outputs": [],
   "source": [
    "builder = GraphBuilder()\n",
    "\n",
    "stations_by_id = builder.build_graph(\"../Server/Server/Stations.xml\", [], True)\n",
    "csharp_output_lines = []\n",
    "possible_routes_output_lines = []\n",
    "for test_type in TEST_ORDERING:\n",
    "  csharp_output_lines.append(\"\")\n",
    "  csharp_output_lines.append(f\"        /* ---------------------- {test_type} required tests. ---------------------- */\")\n",
    "  csharp_output_lines.append(\"\")\n",
    "  tests = tests_to_generate[test_type]\n",
    "  for test in tests:\n",
    "    \n",
    "    start_station_id = test[0]\n",
    "    start_station_name = stations_by_id[start_station_id].name\n",
    "    end_station_id = test[1]\n",
    "    end_station_name = stations_by_id[end_station_id].name\n",
    "    print(f\"Generating Test and expected results for: {start_station_name}({start_station_id}) => {end_station_name}({end_station_id})\")\n",
    "\n",
    "    route_stations, route_nodes, route_edges = builder.dijkstra(start_station_id, end_station_id, stations_by_id)\n",
    "    instructions = builder.route_nodes_to_instructions(route_nodes)\n",
    "    expected_test_result = json.dumps(instructions, separators=(\",\",\":\"), indent=None)\n",
    "    output_test_line = CSHARP_TEMPLATE.format(\n",
    "      generated_test_index,\n",
    "      int(start_station_id),\n",
    "      int(end_station_id),\n",
    "      start_station_name,\n",
    "      end_station_name\n",
    "    )\n",
    "    generated_test_index += 1\n",
    "    csharp_output_lines.append(output_test_line)\n",
    "    possible_routes_output_lines.append(expected_test_result)\n"
   ]
  },
  {
   "cell_type": "code",
   "execution_count": null,
   "metadata": {
    "notebookRunGroups": {
     "groupValue": "2"
    }
   },
   "outputs": [],
   "source": [
    "print(\"\\n\".join(possible_routes_output_lines))"
   ]
  },
  {
   "cell_type": "code",
   "execution_count": null,
   "metadata": {
    "notebookRunGroups": {
     "groupValue": "2"
    }
   },
   "outputs": [],
   "source": [
    "print(\"\\n\".join(csharp_output_lines))\n"
   ]
  },
  {
   "cell_type": "code",
   "execution_count": null,
   "metadata": {},
   "outputs": [],
   "source": []
  }
 ],
 "metadata": {
  "kernelspec": {
   "display_name": "Python 3",
   "language": "python",
   "name": "python3"
  },
  "language_info": {
   "codemirror_mode": {
    "name": "ipython",
    "version": 3
   },
   "file_extension": ".py",
   "mimetype": "text/x-python",
   "name": "python",
   "nbconvert_exporter": "python",
   "pygments_lexer": "ipython3",
   "version": "3.7.13"
  },
  "orig_nbformat": 4
 },
 "nbformat": 4,
 "nbformat_minor": 2
}
